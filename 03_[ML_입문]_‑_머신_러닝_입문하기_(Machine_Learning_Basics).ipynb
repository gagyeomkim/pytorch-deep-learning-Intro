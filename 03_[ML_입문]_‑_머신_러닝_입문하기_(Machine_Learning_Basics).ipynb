{
  "nbformat": 4,
  "nbformat_minor": 0,
  "metadata": {
    "colab": {
      "provenance": [],
      "authorship_tag": "ABX9TyMtaeYgYuAom7Hvo79zFj29",
      "include_colab_link": true
    },
    "kernelspec": {
      "name": "python3",
      "display_name": "Python 3"
    },
    "language_info": {
      "name": "python"
    }
  },
  "cells": [
    {
      "cell_type": "markdown",
      "metadata": {
        "id": "view-in-github",
        "colab_type": "text"
      },
      "source": [
        "<a href=\"https://colab.research.google.com/github/gagyeomkim/pytorch-deep-learning-Intro/blob/main/03_%5BML_%EC%9E%85%EB%AC%B8%5D_%E2%80%91_%EB%A8%B8%EC%8B%A0_%EB%9F%AC%EB%8B%9D_%EC%9E%85%EB%AC%B8%ED%95%98%EA%B8%B0_(Machine_Learning_Basics).ipynb\" target=\"_parent\"><img src=\"https://colab.research.google.com/assets/colab-badge.svg\" alt=\"Open In Colab\"/></a>"
      ]
    },
    {
      "cell_type": "markdown",
      "source": [
        "# 03‑01 선형 회귀와 자동 미분(Linear Regression and Autograd)"
      ],
      "metadata": {
        "id": "kJcAcSCxTNzf"
      }
    },
    {
      "cell_type": "markdown",
      "source": [
        "## 1. 데이터에 대한 이해(Data Definition)"
      ],
      "metadata": {
        "id": "n7W1TF3eHuUX"
      }
    },
    {
      "cell_type": "code",
      "source": [
        "import torch"
      ],
      "metadata": {
        "id": "QS02TriUH80m"
      },
      "execution_count": null,
      "outputs": []
    },
    {
      "cell_type": "code",
      "execution_count": null,
      "metadata": {
        "id": "EKVzhttYG66H"
      },
      "outputs": [],
      "source": [
        "# 훈련 데이터 셋의 구성\n",
        "x_train = torch.FloatTensor([[1],[2],[3]])  # 공부한 시간\n",
        "y_train = torch.FloatTensor([[2],[4],[6]])  # 그에 맵핑되는 점수"
      ]
    },
    {
      "cell_type": "markdown",
      "source": [
        "## 5. 파이토치로 선형회귀 구현하기"
      ],
      "metadata": {
        "id": "VH7ag4uCMFzE"
      }
    },
    {
      "cell_type": "markdown",
      "source": [
        "***기본 셋팅***"
      ],
      "metadata": {
        "id": "lfYbi00JMIFI"
      }
    },
    {
      "cell_type": "code",
      "source": [
        "import torch\n",
        "import torch.nn as nn\n",
        "import torch.nn.functional as F\n",
        "import torch.optim as optim"
      ],
      "metadata": {
        "id": "mwadcZjnH6BU"
      },
      "execution_count": null,
      "outputs": []
    },
    {
      "cell_type": "code",
      "source": [
        "# 현재 실습하고 있는 파이썬 코드를 재실행해도 다음에도 같은 결과가 나오도록 랜덤 시드(random seed)를 줍니다.\n",
        "torch.manual_seed(1)"
      ],
      "metadata": {
        "colab": {
          "base_uri": "https://localhost:8080/"
        },
        "id": "AS05YqyBMPaN",
        "outputId": "279b030f-b6ce-4f58-a481-26b2fd07231e"
      },
      "execution_count": null,
      "outputs": [
        {
          "output_type": "execute_result",
          "data": {
            "text/plain": [
              "<torch._C.Generator at 0x7878c0cb3430>"
            ]
          },
          "metadata": {},
          "execution_count": 6
        }
      ]
    },
    {
      "cell_type": "markdown",
      "source": [
        "***변수선언***"
      ],
      "metadata": {
        "id": "pi0V04vpMW3j"
      }
    },
    {
      "cell_type": "code",
      "source": [
        "# 훈련 데이터 셋의 구성\n",
        "x_train = torch.FloatTensor([[1],[2],[3]])  # 공부한 시간\n",
        "y_train = torch.FloatTensor([[2],[4],[6]])  # 그에 맵핑되는 점수"
      ],
      "metadata": {
        "id": "2uNNZAYXMU9V"
      },
      "execution_count": null,
      "outputs": []
    },
    {
      "cell_type": "code",
      "source": [
        "print(x_train)\n",
        "print(x_train.shape)"
      ],
      "metadata": {
        "colab": {
          "base_uri": "https://localhost:8080/"
        },
        "id": "2mYPszw-MZjA",
        "outputId": "54d4a509-a74f-4234-d9d7-74ca3549be94"
      },
      "execution_count": null,
      "outputs": [
        {
          "output_type": "stream",
          "name": "stdout",
          "text": [
            "tensor([[1.],\n",
            "        [2.],\n",
            "        [3.]])\n",
            "torch.Size([3, 1])\n"
          ]
        }
      ]
    },
    {
      "cell_type": "code",
      "source": [
        "print(y_train)\n",
        "print(y_train.shape)"
      ],
      "metadata": {
        "colab": {
          "base_uri": "https://localhost:8080/"
        },
        "id": "5ifzk9xNMcVl",
        "outputId": "5596f922-1e4b-400a-89be-f0c3e4aee104"
      },
      "execution_count": null,
      "outputs": [
        {
          "output_type": "stream",
          "name": "stdout",
          "text": [
            "tensor([[2.],\n",
            "        [4.],\n",
            "        [6.]])\n",
            "torch.Size([3, 1])\n"
          ]
        }
      ]
    },
    {
      "cell_type": "markdown",
      "source": [
        "***가중치와 편향의 초기화***"
      ],
      "metadata": {
        "id": "vKOeOBQqMkCC"
      }
    },
    {
      "cell_type": "code",
      "source": [
        "# 가중치 W를 0으로 초기화하고 학습을 통해 값이 변경되는 변수임을 명시함.\n",
        "W = torch.zeros(1, requires_grad=True)\n",
        "print(W)"
      ],
      "metadata": {
        "colab": {
          "base_uri": "https://localhost:8080/"
        },
        "id": "Wy0OqcTXMfGw",
        "outputId": "bab96e89-cdba-432d-e0f8-6ac082f76884"
      },
      "execution_count": null,
      "outputs": [
        {
          "output_type": "stream",
          "name": "stdout",
          "text": [
            "tensor([0.], requires_grad=True)\n"
          ]
        }
      ]
    },
    {
      "cell_type": "code",
      "source": [
        "b = torch.zeros(1, requires_grad=True)\n",
        "print(b)"
      ],
      "metadata": {
        "colab": {
          "base_uri": "https://localhost:8080/"
        },
        "id": "6IjCTaU5Mx8i",
        "outputId": "06450571-2605-42c1-81d3-6e36e1c1b6b2"
      },
      "execution_count": null,
      "outputs": [
        {
          "output_type": "stream",
          "name": "stdout",
          "text": [
            "tensor([0.], requires_grad=True)\n"
          ]
        }
      ]
    },
    {
      "cell_type": "markdown",
      "source": [
        "***가설 세우기***"
      ],
      "metadata": {
        "id": "2-LUTYKvNGyu"
      }
    },
    {
      "cell_type": "code",
      "source": [
        "hypothesis = x_train * W + b\n",
        "print(hypothesis)"
      ],
      "metadata": {
        "colab": {
          "base_uri": "https://localhost:8080/"
        },
        "id": "9soGAMipM7i0",
        "outputId": "137fcb09-2a05-4b11-82b4-bd29ea4ab16f"
      },
      "execution_count": null,
      "outputs": [
        {
          "output_type": "stream",
          "name": "stdout",
          "text": [
            "tensor([[0.],\n",
            "        [0.],\n",
            "        [0.]], grad_fn=<AddBackward0>)\n"
          ]
        }
      ]
    },
    {
      "cell_type": "markdown",
      "source": [
        "***비용 함수 선언하기***"
      ],
      "metadata": {
        "id": "KRiAH4ANNfLh"
      }
    },
    {
      "cell_type": "code",
      "source": [
        "# 앞서 배운 torch.mean으로 평균을 구한다.\n",
        "cost = torch.mean((hypothesis - y_train)**2)\n",
        "print(cost)"
      ],
      "metadata": {
        "colab": {
          "base_uri": "https://localhost:8080/"
        },
        "id": "FTwgQ6GUNN4X",
        "outputId": "c72ec6a6-86ec-47a0-cb2b-8b337cda07ca"
      },
      "execution_count": null,
      "outputs": [
        {
          "output_type": "stream",
          "name": "stdout",
          "text": [
            "tensor(18.6667, grad_fn=<MeanBackward0>)\n"
          ]
        }
      ]
    },
    {
      "cell_type": "markdown",
      "source": [
        "***경사하강법 구현하기***"
      ],
      "metadata": {
        "id": "60abk9K0NtED"
      }
    },
    {
      "cell_type": "code",
      "source": [
        "optimizer = optim.SGD([W,b], lr=0.01)"
      ],
      "metadata": {
        "id": "UiciGUOuNq-8"
      },
      "execution_count": null,
      "outputs": []
    },
    {
      "cell_type": "code",
      "source": [
        "# gradient를 0으로 초기화\n",
        "optimizer.zero_grad()\n",
        "# 비용 함수를 미분하여 gradient 계산\n",
        "cost.backward()\n",
        "# W와 b를 업데이트\n",
        "optimizer.step()"
      ],
      "metadata": {
        "id": "JbCJ_CT1N2kU"
      },
      "execution_count": null,
      "outputs": []
    },
    {
      "cell_type": "markdown",
      "source": [
        "***전체 코드***"
      ],
      "metadata": {
        "id": "N2Lw69n_Oufg"
      }
    },
    {
      "cell_type": "code",
      "source": [
        "# 데이터\n",
        "x_train = torch.FloatTensor([[1],[2],[3]])\n",
        "y_train = torch.FloatTensor([[2],[4],[6]])\n",
        "# 모델 초기화\n",
        "W = torch.zeros(1, requires_grad=True)\n",
        "b = torch.zeros(1, requires_grad=True)\n",
        "# optimizer 설정\n",
        "optimizer = optim.SGD([W,b], lr = 0.01)\n",
        "\n",
        "nb_epochs = 2000    # 원하는 만큼 경사하강법을 반복\n",
        "for epoch in range(nb_epochs+1):\n",
        "\n",
        "    # H(x) 계산\n",
        "    hypothesis = x_train * W + b\n",
        "\n",
        "    # cost 계산\n",
        "    cost = torch.mean((hypothesis - y_train)**2)\n",
        "\n",
        "    # cost로 H(x) 개선\n",
        "    optimizer.zero_grad()\n",
        "    cost.backward()\n",
        "    optimizer.step()\n",
        "\n",
        "    # 100번마다 로그 출력\n",
        "    if epoch % 100 == 0:\n",
        "        print('Epoch {:4d}/{} W: {:.3f}, b:{:.3f} Cost: {:.6f}'.format(\n",
        "            epoch, nb_epochs, W.item(), b.item(), cost.item()\n",
        "        ))"
      ],
      "metadata": {
        "colab": {
          "base_uri": "https://localhost:8080/"
        },
        "id": "ebnahQHtOkne",
        "outputId": "21370a0b-a888-4a1f-d6d1-6d6f998c3cd3"
      },
      "execution_count": null,
      "outputs": [
        {
          "output_type": "stream",
          "name": "stdout",
          "text": [
            "Epoch    0/2000 W: 0.187, b:0.080 Cost: 18.666666\n",
            "Epoch  100/2000 W: 1.746, b:0.578 Cost: 0.048171\n",
            "Epoch  200/2000 W: 1.800, b:0.454 Cost: 0.029767\n",
            "Epoch  300/2000 W: 1.843, b:0.357 Cost: 0.018394\n",
            "Epoch  400/2000 W: 1.876, b:0.281 Cost: 0.011366\n",
            "Epoch  500/2000 W: 1.903, b:0.221 Cost: 0.007024\n",
            "Epoch  600/2000 W: 1.924, b:0.174 Cost: 0.004340\n",
            "Epoch  700/2000 W: 1.940, b:0.136 Cost: 0.002682\n",
            "Epoch  800/2000 W: 1.953, b:0.107 Cost: 0.001657\n",
            "Epoch  900/2000 W: 1.963, b:0.084 Cost: 0.001024\n",
            "Epoch 1000/2000 W: 1.971, b:0.066 Cost: 0.000633\n",
            "Epoch 1100/2000 W: 1.977, b:0.052 Cost: 0.000391\n",
            "Epoch 1200/2000 W: 1.982, b:0.041 Cost: 0.000242\n",
            "Epoch 1300/2000 W: 1.986, b:0.032 Cost: 0.000149\n",
            "Epoch 1400/2000 W: 1.989, b:0.025 Cost: 0.000092\n",
            "Epoch 1500/2000 W: 1.991, b:0.020 Cost: 0.000057\n",
            "Epoch 1600/2000 W: 1.993, b:0.016 Cost: 0.000035\n",
            "Epoch 1700/2000 W: 1.995, b:0.012 Cost: 0.000022\n",
            "Epoch 1800/2000 W: 1.996, b:0.010 Cost: 0.000013\n",
            "Epoch 1900/2000 W: 1.997, b:0.008 Cost: 0.000008\n",
            "Epoch 2000/2000 W: 1.997, b:0.006 Cost: 0.000005\n"
          ]
        }
      ]
    },
    {
      "cell_type": "markdown",
      "source": [
        "## 6. optimizer.zero_grad()가 필요한 이유"
      ],
      "metadata": {
        "id": "bmjde4vyQgok"
      }
    },
    {
      "cell_type": "code",
      "source": [
        "import torch\n",
        "w = torch.tensor(2.0, requires_grad=True)\n",
        "\n",
        "nb_epochs = 20\n",
        "for epoch in range(nb_epochs + 1):\n",
        "    z = 2 * w\n",
        "    z.backward()\n",
        "    print('수식을 w로 미분한 값 : {}'.format(w.grad))"
      ],
      "metadata": {
        "colab": {
          "base_uri": "https://localhost:8080/"
        },
        "id": "kH-c_n6iPuyX",
        "outputId": "dbe1945c-2924-4536-da73-b9f0de3bee4d"
      },
      "execution_count": null,
      "outputs": [
        {
          "output_type": "stream",
          "name": "stdout",
          "text": [
            "수식을 w로 미분한 값 : 2.0\n",
            "수식을 w로 미분한 값 : 4.0\n",
            "수식을 w로 미분한 값 : 6.0\n",
            "수식을 w로 미분한 값 : 8.0\n",
            "수식을 w로 미분한 값 : 10.0\n",
            "수식을 w로 미분한 값 : 12.0\n",
            "수식을 w로 미분한 값 : 14.0\n",
            "수식을 w로 미분한 값 : 16.0\n",
            "수식을 w로 미분한 값 : 18.0\n",
            "수식을 w로 미분한 값 : 20.0\n",
            "수식을 w로 미분한 값 : 22.0\n",
            "수식을 w로 미분한 값 : 24.0\n",
            "수식을 w로 미분한 값 : 26.0\n",
            "수식을 w로 미분한 값 : 28.0\n",
            "수식을 w로 미분한 값 : 30.0\n",
            "수식을 w로 미분한 값 : 32.0\n",
            "수식을 w로 미분한 값 : 34.0\n",
            "수식을 w로 미분한 값 : 36.0\n",
            "수식을 w로 미분한 값 : 38.0\n",
            "수식을 w로 미분한 값 : 40.0\n",
            "수식을 w로 미분한 값 : 42.0\n"
          ]
        }
      ]
    },
    {
      "cell_type": "markdown",
      "source": [
        "## 7. torch.manual_seed()를 하는 이유"
      ],
      "metadata": {
        "id": "sC7pgosbRVCN"
      }
    },
    {
      "cell_type": "code",
      "source": [
        "import torch"
      ],
      "metadata": {
        "id": "dHBdbEMCQx2a"
      },
      "execution_count": null,
      "outputs": []
    },
    {
      "cell_type": "code",
      "source": [
        "torch.manual_seed(3)\n",
        "print('랜덤 시드가 3일 때')\n",
        "for i in range(1, 3):\n",
        "    print(torch.rand(1))"
      ],
      "metadata": {
        "colab": {
          "base_uri": "https://localhost:8080/"
        },
        "id": "Urx30yBcRYu5",
        "outputId": "fa42f032-f8ef-4118-e10c-deb8ba009955"
      },
      "execution_count": null,
      "outputs": [
        {
          "output_type": "stream",
          "name": "stdout",
          "text": [
            "랜덤 시드가 3일 때\n",
            "tensor([0.0043])\n",
            "tensor([0.1056])\n"
          ]
        }
      ]
    },
    {
      "cell_type": "code",
      "source": [
        "torch.manual_seed(5)\n",
        "print('랜덤 시드가 5일 때')\n",
        "for i in range(1,3):\n",
        "    print(torch.rand(1))"
      ],
      "metadata": {
        "colab": {
          "base_uri": "https://localhost:8080/"
        },
        "id": "AC3D9vbgRf7s",
        "outputId": "eb4979d3-97f4-4913-aecd-9c040576d58a"
      },
      "execution_count": null,
      "outputs": [
        {
          "output_type": "stream",
          "name": "stdout",
          "text": [
            "랜덤 시드가 5일 때\n",
            "tensor([0.8303])\n",
            "tensor([0.1261])\n"
          ]
        }
      ]
    },
    {
      "cell_type": "code",
      "source": [
        "torch.manual_seed(3)\n",
        "print('랜덤 시드가 3일 때')\n",
        "for i in range(1, 3):\n",
        "    print(torch.rand(1))"
      ],
      "metadata": {
        "colab": {
          "base_uri": "https://localhost:8080/"
        },
        "id": "VIQCWxuYRm9R",
        "outputId": "1c424049-5181-44ed-9aad-4e844095ba01"
      },
      "execution_count": null,
      "outputs": [
        {
          "output_type": "stream",
          "name": "stdout",
          "text": [
            "랜덤 시드가 3일 때\n",
            "tensor([0.0043])\n",
            "tensor([0.1056])\n"
          ]
        }
      ]
    },
    {
      "cell_type": "markdown",
      "source": [
        "## 8. 자동 미분(Autograd) 실습하기"
      ],
      "metadata": {
        "id": "ufsq-pfoR1j9"
      }
    },
    {
      "cell_type": "markdown",
      "source": [
        "$$2w^2 + 5$$"
      ],
      "metadata": {
        "id": "5dupO6JnSTsx"
      }
    },
    {
      "cell_type": "code",
      "source": [
        "import torch"
      ],
      "metadata": {
        "id": "ZgsBLEARRqAO"
      },
      "execution_count": null,
      "outputs": []
    },
    {
      "cell_type": "code",
      "source": [
        "w = torch.tensor(2.0, requires_grad=True)   # 이 텐서에 대한 기울기를 저장하겠다"
      ],
      "metadata": {
        "id": "9rRECdMlSTV_"
      },
      "execution_count": null,
      "outputs": []
    },
    {
      "cell_type": "code",
      "source": [
        "y = w ** 2\n",
        "z = 2 * y + 5   # cost"
      ],
      "metadata": {
        "id": "XSPdB7YfSefv"
      },
      "execution_count": null,
      "outputs": []
    },
    {
      "cell_type": "code",
      "source": [
        "z.backward()"
      ],
      "metadata": {
        "id": "LniuPf7zSiyg"
      },
      "execution_count": null,
      "outputs": []
    },
    {
      "cell_type": "code",
      "source": [
        "print('수식을 w로 미분한 값: {}'.format(w.grad))"
      ],
      "metadata": {
        "colab": {
          "base_uri": "https://localhost:8080/"
        },
        "id": "8nKyJ49fSlrh",
        "outputId": "bacc7b57-3f68-467b-f2bd-16af6fbedad5"
      },
      "execution_count": null,
      "outputs": [
        {
          "output_type": "stream",
          "name": "stdout",
          "text": [
            "수식을 w로 미분한 값: 8.0\n"
          ]
        }
      ]
    },
    {
      "cell_type": "markdown",
      "source": [
        "# 03-02 다중 선형 회귀(Multivariable Linear regression)"
      ],
      "metadata": {
        "id": "W8oXKQ6vThao"
      }
    },
    {
      "cell_type": "markdown",
      "source": [
        "## 2. 파이토치로 구현하기"
      ],
      "metadata": {
        "id": "rF2dlEm7UAK1"
      }
    },
    {
      "cell_type": "code",
      "source": [
        "import torch\n",
        "import torch.nn as nn\n",
        "import torch.nn.functional as F\n",
        "import torch.optim as optim"
      ],
      "metadata": {
        "id": "BIfkilynSsYl"
      },
      "execution_count": null,
      "outputs": []
    },
    {
      "cell_type": "code",
      "source": [
        "torch.manual_seed(1)"
      ],
      "metadata": {
        "colab": {
          "base_uri": "https://localhost:8080/"
        },
        "id": "UTDua-c3UGSi",
        "outputId": "92a2f21e-5b3f-4733-ce25-2de936221d43"
      },
      "execution_count": null,
      "outputs": [
        {
          "output_type": "execute_result",
          "data": {
            "text/plain": [
              "<torch._C.Generator at 0x7878c0cb3430>"
            ]
          },
          "metadata": {},
          "execution_count": 39
        }
      ]
    },
    {
      "cell_type": "code",
      "source": [
        "# 훈련 데이터\n",
        "x1_train = torch.FloatTensor([[73],[93],[89],[96], [73]])\n",
        "x2_train = torch.FloatTensor([[80],[88],[91],[98], [66]])\n",
        "x3_train = torch.FloatTensor([[75],[93],[80],[100], [70]])\n",
        "y_train = torch.FloatTensor([[152],[185],[180],[196],[142]])"
      ],
      "metadata": {
        "id": "_iGwhcUoUH0V"
      },
      "execution_count": null,
      "outputs": []
    },
    {
      "cell_type": "code",
      "source": [
        "# 가중치 w와 편향 b 초기화\n",
        "w1 = torch.zeros(1, requires_grad=True)\n",
        "w2 = torch.zeros(1, requires_grad=True)\n",
        "w3 = torch.zeros(1, requires_grad=True)\n",
        "b = torch.zeros(1, requires_grad=True)"
      ],
      "metadata": {
        "id": "t0f3I0l7Ugk3"
      },
      "execution_count": null,
      "outputs": []
    },
    {
      "cell_type": "code",
      "source": [
        "# optimizer 설정\n",
        "optimizer = optim.SGD([w1, w2, w3, b], lr=1e-5)\n",
        "\n",
        "nb_epochs=1000\n",
        "for epoch in range(nb_epochs+1):\n",
        "    # H(x) 계산\n",
        "    hypothesis = x1_train * w1 + x2_train * w2 + x3_train*w3 + b\n",
        "\n",
        "    # cost 계산\n",
        "    cost = torch.mean((hypothesis - y_train)**2)\n",
        "\n",
        "    # cost로 H(x) 개선\n",
        "    optimizer.zero_grad()\n",
        "    cost.backward()\n",
        "    optimizer.step()\n",
        "\n",
        "    # 100번 마다 로그 출력\n",
        "    if epoch % 100 == 0:\n",
        "        print('Epoch {:4d} / {} w1: {:.3f} w2: {:.3f} w3: {:.3f} b: {:.3f} Cost: {:.6f}'.format(\n",
        "            epoch, nb_epochs, w1.item(), w2.item(), w3.item(), b.item(), cost.item()\n",
        "        ))"
      ],
      "metadata": {
        "colab": {
          "base_uri": "https://localhost:8080/"
        },
        "id": "8ZgZwXBgU1SF",
        "outputId": "b808db91-2d4a-4c10-d456-f78b9ede7640"
      },
      "execution_count": null,
      "outputs": [
        {
          "output_type": "stream",
          "name": "stdout",
          "text": [
            "Epoch    0 / 1000 w1: 0.461 w2: 0.460 w3: 0.455 b: 0.005 Cost: 9537.694336\n",
            "Epoch  100 / 1000 w1: 0.688 w2: 0.681 w3: 0.658 b: 0.008 Cost: 5.752121\n",
            "Epoch  200 / 1000 w1: 0.698 w2: 0.684 w3: 0.645 b: 0.008 Cost: 5.510032\n",
            "Epoch  300 / 1000 w1: 0.707 w2: 0.686 w3: 0.634 b: 0.008 Cost: 5.279399\n",
            "Epoch  400 / 1000 w1: 0.716 w2: 0.689 w3: 0.622 b: 0.008 Cost: 5.059760\n",
            "Epoch  500 / 1000 w1: 0.724 w2: 0.691 w3: 0.611 b: 0.008 Cost: 4.850370\n",
            "Epoch  600 / 1000 w1: 0.733 w2: 0.693 w3: 0.600 b: 0.008 Cost: 4.650773\n",
            "Epoch  700 / 1000 w1: 0.742 w2: 0.695 w3: 0.589 b: 0.009 Cost: 4.460444\n",
            "Epoch  800 / 1000 w1: 0.750 w2: 0.697 w3: 0.579 b: 0.009 Cost: 4.278834\n",
            "Epoch  900 / 1000 w1: 0.758 w2: 0.699 w3: 0.569 b: 0.009 Cost: 4.105582\n",
            "Epoch 1000 / 1000 w1: 0.766 w2: 0.700 w3: 0.559 b: 0.009 Cost: 3.940238\n"
          ]
        }
      ]
    },
    {
      "cell_type": "markdown",
      "source": [
        "## 4. 행렬 연산을 고려하여 파이토치로 구현하기"
      ],
      "metadata": {
        "id": "zi6IkpxCWI2i"
      }
    },
    {
      "cell_type": "code",
      "source": [
        "# 훈련 데이터 선언\n",
        "x_train = torch.FloatTensor([[73, 80, 75],\n",
        "                             [93, 88, 93],\n",
        "                             [89, 91, 80],\n",
        "                             [96, 98, 100],\n",
        "                             [73, 66, 70]])\n",
        "y_train = torch.FloatTensor([[152],[184],[180],[196],[142]])"
      ],
      "metadata": {
        "id": "ytpUYRfWVjaH"
      },
      "execution_count": null,
      "outputs": []
    },
    {
      "cell_type": "code",
      "source": [
        "print(x_train.shape)\n",
        "print(y_train.shape)"
      ],
      "metadata": {
        "colab": {
          "base_uri": "https://localhost:8080/"
        },
        "id": "arYuBQXmXUiw",
        "outputId": "be5d4380-2a99-41be-ef43-ce09a03f9513"
      },
      "execution_count": null,
      "outputs": [
        {
          "output_type": "stream",
          "name": "stdout",
          "text": [
            "torch.Size([5, 3])\n",
            "torch.Size([5, 1])\n"
          ]
        }
      ]
    },
    {
      "cell_type": "code",
      "source": [
        "# 가중치와 편향 선언\n",
        "W = torch.zeros((3,1),requires_grad=True)\n",
        "b = torch.zeros(1, requires_grad=True)"
      ],
      "metadata": {
        "id": "fGJ4h3DzXedm"
      },
      "execution_count": null,
      "outputs": []
    },
    {
      "cell_type": "code",
      "source": [
        "hypothesis = x_train.matmul(W) + b  # 그냥 *을 쓰면 요소별 곱셈"
      ],
      "metadata": {
        "id": "ZjDTmMqAXh4Q"
      },
      "execution_count": null,
      "outputs": []
    },
    {
      "cell_type": "markdown",
      "source": [
        "***전체코드***"
      ],
      "metadata": {
        "id": "BxLOFWecX3av"
      }
    },
    {
      "cell_type": "code",
      "source": [
        "# 훈련 데이터 선언\n",
        "x_train = torch.FloatTensor([[73, 80, 75],\n",
        "                             [93, 88, 93],\n",
        "                             [89, 91, 80],\n",
        "                             [96, 98, 100],\n",
        "                             [73, 66, 70]])\n",
        "y_train = torch.FloatTensor([[152],[184],[180],[196],[142]])\n",
        "\n",
        "# 모델 초기화\n",
        "W = torch.zeros((3,1),requires_grad=True)\n",
        "b = torch.zeros(1, requires_grad=True)\n",
        "#optimizer 설정\n",
        "optimizer = optim.SGD([W,b], lr=1e-5)\n",
        "\n",
        "nb_epochs = 20\n",
        "for epoch in range(nb_epochs + 1):\n",
        "\n",
        "    # H(x) 계산\n",
        "    # 편향 b는 브로드 캐스팅되어 각 샘플에 더해집니다.\n",
        "    hypothesis = x_train.matmul(W) + b\n",
        "\n",
        "    # cost 계산\n",
        "    cost = torch.mean((hypothesis - y_train)**2)\n",
        "\n",
        "    # cost로 H(x) 개선\n",
        "    optimizer.zero_grad()\n",
        "    cost.backward()\n",
        "    optimizer.step()\n",
        "\n",
        "    print('Epcoh {:4d}/{} hypothesis: {} Cost: {:.6f}'.format(\n",
        "        epoch, nb_epochs, hypothesis.squeeze().detach(), cost.item()\n",
        "    ))"
      ],
      "metadata": {
        "colab": {
          "base_uri": "https://localhost:8080/"
        },
        "id": "urHZiNJGXtcr",
        "outputId": "2f40f1e3-6784-43d7-b5b9-35505ae9e6e9"
      },
      "execution_count": null,
      "outputs": [
        {
          "output_type": "stream",
          "name": "stdout",
          "text": [
            "Epcoh    0/20 hypothesis: tensor([0., 0., 0., 0., 0.]) Cost: 29588.000000\n",
            "Epcoh    1/20 hypothesis: tensor([66.6346, 80.0699, 76.0076, 85.9120, 61.0801]) Cost: 9514.111328\n",
            "Epcoh    2/20 hypothesis: tensor([104.4118, 125.4639, 119.0992, 134.6178,  95.7082]) Cost: 3062.145996\n",
            "Epcoh    3/20 hypothesis: tensor([125.8288, 151.1989, 143.5296, 162.2304, 115.3400]) Cost: 988.415222\n",
            "Epcoh    4/20 hypothesis: tensor([137.9707, 165.7888, 157.3805, 177.8846, 126.4698]) Cost: 321.893463\n",
            "Epcoh    5/20 hypothesis: tensor([144.8543, 174.0600, 165.2335, 186.7592, 132.7797]) Cost: 107.664345\n",
            "Epcoh    6/20 hypothesis: tensor([148.7568, 178.7491, 169.6861, 191.7902, 136.3569]) Cost: 38.806896\n",
            "Epcoh    7/20 hypothesis: tensor([150.9692, 181.4073, 172.2109, 194.6422, 138.3849]) Cost: 16.673267\n",
            "Epcoh    8/20 hypothesis: tensor([152.2234, 182.9142, 173.6428, 196.2588, 139.5347]) Cost: 9.557421\n",
            "Epcoh    9/20 hypothesis: tensor([152.9345, 183.7683, 174.4551, 197.1750, 140.1865]) Cost: 7.268370\n",
            "Epcoh   10/20 hypothesis: tensor([153.3376, 184.2524, 174.9162, 197.6942, 140.5560]) Cost: 6.530675\n",
            "Epcoh   11/20 hypothesis: tensor([153.5661, 184.5266, 175.1781, 197.9883, 140.7655]) Cost: 6.291646\n",
            "Epcoh   12/20 hypothesis: tensor([153.6956, 184.6820, 175.3270, 198.1547, 140.8843]) Cost: 6.212913\n",
            "Epcoh   13/20 hypothesis: tensor([153.7690, 184.7699, 175.4120, 198.2488, 140.9516]) Cost: 6.185652\n",
            "Epcoh   14/20 hypothesis: tensor([153.8105, 184.8195, 175.4607, 198.3019, 140.9897]) Cost: 6.174924\n",
            "Epcoh   15/20 hypothesis: tensor([153.8341, 184.8475, 175.4888, 198.3317, 141.0114]) Cost: 6.169558\n",
            "Epcoh   16/20 hypothesis: tensor([153.8474, 184.8633, 175.5052, 198.3484, 141.0236]) Cost: 6.165885\n",
            "Epcoh   17/20 hypothesis: tensor([153.8549, 184.8720, 175.5150, 198.3576, 141.0305]) Cost: 6.162793\n",
            "Epcoh   18/20 hypothesis: tensor([153.8591, 184.8768, 175.5211, 198.3625, 141.0345]) Cost: 6.159829\n",
            "Epcoh   19/20 hypothesis: tensor([153.8615, 184.8793, 175.5251, 198.3650, 141.0367]) Cost: 6.156981\n",
            "Epcoh   20/20 hypothesis: tensor([153.8628, 184.8806, 175.5278, 198.3662, 141.0379]) Cost: 6.154103\n"
          ]
        }
      ]
    },
    {
      "cell_type": "code",
      "source": [
        "# 임의의 입력 값에 대한 예측\n",
        "with torch.no_grad():\n",
        "    new_input = torch.FloatTensor([[75, 85, 72]])   # 예측하고 싶은 임의의 입력\n",
        "    prediction = new_input.matmul(W) + b    # 학습이 완료된 후, W와 b를 이용한 예측\n",
        "    print('Predicted value for input {}: {}'.format(new_input.squeeze().tolist(), prediction.item()))"
      ],
      "metadata": {
        "colab": {
          "base_uri": "https://localhost:8080/"
        },
        "id": "U3HxrX9mYleG",
        "outputId": "88315ade-6e48-4d75-e9c7-5a801f883c74"
      },
      "execution_count": null,
      "outputs": [
        {
          "output_type": "stream",
          "name": "stdout",
          "text": [
            "Predicted value for input [75.0, 85.0, 72.0]: 156.61285400390625\n"
          ]
        }
      ]
    },
    {
      "cell_type": "markdown",
      "source": [
        "# 03-03 nn.Module과 클래스로 구현하기"
      ],
      "metadata": {
        "id": "Kg1tCXPOabzD"
      }
    },
    {
      "cell_type": "markdown",
      "source": [
        "## 1. 단순 선형 회귀 구현하기"
      ],
      "metadata": {
        "id": "lDZMxIsnasxc"
      }
    },
    {
      "cell_type": "code",
      "source": [
        "import torch\n",
        "import torch.nn as nn\n",
        "import torch.nn.functional as F"
      ],
      "metadata": {
        "id": "WBPe96kNavV1"
      },
      "execution_count": null,
      "outputs": []
    },
    {
      "cell_type": "code",
      "source": [
        "torch.manual_seed(1)"
      ],
      "metadata": {
        "colab": {
          "base_uri": "https://localhost:8080/"
        },
        "id": "SctGGoxXa0T3",
        "outputId": "fab67279-f6c8-4010-caf1-5fa355433b5b"
      },
      "execution_count": null,
      "outputs": [
        {
          "output_type": "execute_result",
          "data": {
            "text/plain": [
              "<torch._C.Generator at 0x7878c0cb3430>"
            ]
          },
          "metadata": {},
          "execution_count": 58
        }
      ]
    },
    {
      "cell_type": "code",
      "source": [
        "# 데이터\n",
        "x_train = torch.FloatTensor([[1],[2],[3]])\n",
        "y_train = torch.FloatTensor([[2],[4],[6]])"
      ],
      "metadata": {
        "id": "9cDLAITPa1U-"
      },
      "execution_count": null,
      "outputs": []
    },
    {
      "cell_type": "code",
      "source": [
        "# 모델을 선언및 초기화. 단순 선형 회귀이므로 input_dim=1, output_dim=1\n",
        "model = nn.Linear(1, 1)"
      ],
      "metadata": {
        "id": "9vnWVE80bGpO"
      },
      "execution_count": null,
      "outputs": []
    },
    {
      "cell_type": "code",
      "source": [
        "print(list(model.parameters()))"
      ],
      "metadata": {
        "colab": {
          "base_uri": "https://localhost:8080/"
        },
        "id": "8SsvY81ibL3e",
        "outputId": "e3fa2450-5222-4ff2-8a23-b21d1f15689c"
      },
      "execution_count": null,
      "outputs": [
        {
          "output_type": "stream",
          "name": "stdout",
          "text": [
            "[Parameter containing:\n",
            "tensor([[0.5153]], requires_grad=True), Parameter containing:\n",
            "tensor([-0.4414], requires_grad=True)]\n"
          ]
        }
      ]
    },
    {
      "cell_type": "code",
      "source": [
        "# optimizer 설정. 경사하강법 SGD를 사용하고 learning rate를 의미하는 lr은 0.01\n",
        "optimizer = torch.optim.SGD(model.parameters(), lr=0.01)"
      ],
      "metadata": {
        "id": "UhQl3CsWbVSq"
      },
      "execution_count": null,
      "outputs": []
    },
    {
      "cell_type": "code",
      "source": [
        "# 전체 훈련 데이터에 대해 경사하강법을 2000회 반복\n",
        "nb_epochs = 2000\n",
        "for epoch in range(nb_epochs + 1):\n",
        "\n",
        "    # H(x) 계산\n",
        "    prediction = model(x_train)\n",
        "\n",
        "    # cost 계산\n",
        "    cost = F.mse_loss(prediction, y_train)  # <== 파이토치에서 제공하는 평균 제곱 오차 함수\n",
        "\n",
        "    # cost로 H(x) 개선하는 부분\n",
        "    # gradient를 0으로 초기화\n",
        "    optimizer.zero_grad()\n",
        "    # 비용 함수를 미분하여 gradient 계산\n",
        "    cost.backward()\n",
        "    # W와 b를 업데이트\n",
        "    optimizer.step()\n",
        "\n",
        "    if epoch % 100 == 0:\n",
        "        # 100번마다 로그 출력\n",
        "        print('Epoch {:4d}/{} Cost: {:.6f}'.format(\n",
        "            epoch, nb_epochs, cost.item()\n",
        "        ))"
      ],
      "metadata": {
        "colab": {
          "base_uri": "https://localhost:8080/"
        },
        "id": "bfnx4lQhbhTh",
        "outputId": "f9b22f4c-4df9-4bc7-f1d2-016629a9e7b3"
      },
      "execution_count": null,
      "outputs": [
        {
          "output_type": "stream",
          "name": "stdout",
          "text": [
            "Epoch    0/2000 Cost: 13.103541\n",
            "Epoch  100/2000 Cost: 0.002791\n",
            "Epoch  200/2000 Cost: 0.001724\n",
            "Epoch  300/2000 Cost: 0.001066\n",
            "Epoch  400/2000 Cost: 0.000658\n",
            "Epoch  500/2000 Cost: 0.000407\n",
            "Epoch  600/2000 Cost: 0.000251\n",
            "Epoch  700/2000 Cost: 0.000155\n",
            "Epoch  800/2000 Cost: 0.000096\n",
            "Epoch  900/2000 Cost: 0.000059\n",
            "Epoch 1000/2000 Cost: 0.000037\n",
            "Epoch 1100/2000 Cost: 0.000023\n",
            "Epoch 1200/2000 Cost: 0.000014\n",
            "Epoch 1300/2000 Cost: 0.000009\n",
            "Epoch 1400/2000 Cost: 0.000005\n",
            "Epoch 1500/2000 Cost: 0.000003\n",
            "Epoch 1600/2000 Cost: 0.000002\n",
            "Epoch 1700/2000 Cost: 0.000001\n",
            "Epoch 1800/2000 Cost: 0.000001\n",
            "Epoch 1900/2000 Cost: 0.000000\n",
            "Epoch 2000/2000 Cost: 0.000000\n"
          ]
        }
      ]
    },
    {
      "cell_type": "code",
      "source": [
        "# 임의의 입력 4를 선언\n",
        "new_var = torch.FloatTensor([[4.0]])\n",
        "# 입력한 값 4에 대해서 예측값 y를 리턴 받아서 pred_y에 저장\n",
        "pred_y = model(new_var)\n",
        "# y = 2x이므로 입력이 4라면 y가 8에 가까운 값이 나와야 제대로 학습이 된 것\n",
        "print('훈련 후 입력이 4일 때의 예측값 :', pred_y)"
      ],
      "metadata": {
        "colab": {
          "base_uri": "https://localhost:8080/"
        },
        "id": "I0AGeezzbwbZ",
        "outputId": "4524f59c-5612-4f0e-acb6-4cf131bba2c8"
      },
      "execution_count": null,
      "outputs": [
        {
          "output_type": "stream",
          "name": "stdout",
          "text": [
            "훈련 후 입력이 4일 때의 예측값 : tensor([[7.9989]], grad_fn=<AddmmBackward0>)\n"
          ]
        }
      ]
    },
    {
      "cell_type": "code",
      "source": [
        "# 학습 후의 W와 b의 값\n",
        "print(list(model.parameters()))"
      ],
      "metadata": {
        "colab": {
          "base_uri": "https://localhost:8080/"
        },
        "id": "rxrirVw2cbIZ",
        "outputId": "b0e4bafb-8ebf-46c1-bab1-f5f3eda71a2d"
      },
      "execution_count": null,
      "outputs": [
        {
          "output_type": "stream",
          "name": "stdout",
          "text": [
            "[Parameter containing:\n",
            "tensor([[1.9994]], requires_grad=True), Parameter containing:\n",
            "tensor([0.0014], requires_grad=True)]\n"
          ]
        }
      ]
    },
    {
      "cell_type": "markdown",
      "source": [
        "## 2. 다중 선형 회귀 구현하기"
      ],
      "metadata": {
        "id": "li3eWCCCc0G9"
      }
    },
    {
      "cell_type": "code",
      "source": [
        "import torch\n",
        "import torch.nn as nn\n",
        "import torch.nn.functional as F"
      ],
      "metadata": {
        "id": "jQq6-yRYcgRm"
      },
      "execution_count": null,
      "outputs": []
    },
    {
      "cell_type": "code",
      "source": [
        "torch.manual_seed(1)"
      ],
      "metadata": {
        "colab": {
          "base_uri": "https://localhost:8080/"
        },
        "id": "bs_heD4gdHUi",
        "outputId": "7cabc80c-478f-45f4-a418-636d0590a349"
      },
      "execution_count": null,
      "outputs": [
        {
          "output_type": "execute_result",
          "data": {
            "text/plain": [
              "<torch._C.Generator at 0x7c8a56be9f30>"
            ]
          },
          "metadata": {},
          "execution_count": 13
        }
      ]
    },
    {
      "cell_type": "code",
      "source": [
        "# 데이터\n",
        "x_train = torch.FloatTensor([[73, 80, 75],\n",
        "                             [93, 88, 93],\n",
        "                             [89, 91, 90],\n",
        "                             [96, 98, 100],\n",
        "                             [73, 66, 70]])\n",
        "y_train = torch.FloatTensor([[152],[185],[180],[196],[142]])"
      ],
      "metadata": {
        "id": "0Dl4StJfdIwq"
      },
      "execution_count": null,
      "outputs": []
    },
    {
      "cell_type": "code",
      "source": [
        "# 모델을 선언 및 초기화. 다중 선형 회귀 이므로 input_dim = 3, output_dim = 1\n",
        "model = nn.Linear(3, 1)"
      ],
      "metadata": {
        "id": "atv8TmvEdZJr"
      },
      "execution_count": null,
      "outputs": []
    },
    {
      "cell_type": "code",
      "source": [
        "print(list(model.parameters()))"
      ],
      "metadata": {
        "colab": {
          "base_uri": "https://localhost:8080/"
        },
        "id": "Y4uZi2r6dfXx",
        "outputId": "9b929a1a-ab37-4e13-b496-130860840117"
      },
      "execution_count": null,
      "outputs": [
        {
          "output_type": "stream",
          "name": "stdout",
          "text": [
            "[Parameter containing:\n",
            "tensor([[ 0.2975, -0.2548, -0.1119]], requires_grad=True), Parameter containing:\n",
            "tensor([0.2710], requires_grad=True)]\n"
          ]
        }
      ]
    },
    {
      "cell_type": "code",
      "source": [
        "optimizer = torch.optim.SGD(model.parameters(), lr=1e-5)"
      ],
      "metadata": {
        "id": "PdTjyTRhdmpk"
      },
      "execution_count": null,
      "outputs": []
    },
    {
      "cell_type": "code",
      "source": [
        "nb_epochs = 2000\n",
        "for epoch in range(nb_epochs+1):\n",
        "\n",
        "    # H(x) 계산\n",
        "    prediction = model(x_train)\n",
        "    # model(x_train)은 model.forward(x_train)과 동일함\n",
        "\n",
        "    # cost 계산\n",
        "    cost = F.mse_loss(prediction, y_train)  # <== 파이토치에서 제공하는 평균 제곱 오차\n",
        "\n",
        "    # cost로 H(x) 개선하는 부분\n",
        "    # gradient를 0으로 초기화\n",
        "    optimizer.zero_grad()\n",
        "    # 비용함수를 미분하여 gradient 게산\n",
        "    cost.backward()\n",
        "    # W와 b를 업데이트\n",
        "    optimizer.step()\n",
        "\n",
        "    if epoch%100 == 0:\n",
        "        # 100번마다 로그 출력\n",
        "        print('Epoch {:4d}/{} Cost: {:.6f}'.format(\n",
        "            epoch, nb_epochs, cost.item()\n",
        "        ))"
      ],
      "metadata": {
        "colab": {
          "base_uri": "https://localhost:8080/"
        },
        "id": "ohtlgd9xdy0G",
        "outputId": "a2ee3abe-ba74-4fdf-e24c-967d217c06d1"
      },
      "execution_count": null,
      "outputs": [
        {
          "output_type": "stream",
          "name": "stdout",
          "text": [
            "Epoch    0/2000 Cost: 31667.597656\n",
            "Epoch  100/2000 Cost: 0.225993\n",
            "Epoch  200/2000 Cost: 0.223911\n",
            "Epoch  300/2000 Cost: 0.221941\n",
            "Epoch  400/2000 Cost: 0.220059\n",
            "Epoch  500/2000 Cost: 0.218271\n",
            "Epoch  600/2000 Cost: 0.216575\n",
            "Epoch  700/2000 Cost: 0.214950\n",
            "Epoch  800/2000 Cost: 0.213413\n",
            "Epoch  900/2000 Cost: 0.211952\n",
            "Epoch 1000/2000 Cost: 0.210560\n",
            "Epoch 1100/2000 Cost: 0.209232\n",
            "Epoch 1200/2000 Cost: 0.207967\n",
            "Epoch 1300/2000 Cost: 0.206761\n",
            "Epoch 1400/2000 Cost: 0.205619\n",
            "Epoch 1500/2000 Cost: 0.204522\n",
            "Epoch 1600/2000 Cost: 0.203484\n",
            "Epoch 1700/2000 Cost: 0.202485\n",
            "Epoch 1800/2000 Cost: 0.201542\n",
            "Epoch 1900/2000 Cost: 0.200635\n",
            "Epoch 2000/2000 Cost: 0.199769\n"
          ]
        }
      ]
    },
    {
      "cell_type": "code",
      "source": [
        "# 임의의 입력 [73, 80, 75]를 선언\n",
        "new_var = torch.FloatTensor([[73, 80, 75]])\n",
        "# 입력한 값 [73, 80, 75]에 대해서 예측값 y를 리턴받아서 pred_y에 저장\n",
        "pred_y = model(new_var)\n",
        "print('훈련후 입력이 73, 80, 75일 때의 에측값: ', pred_y)"
      ],
      "metadata": {
        "colab": {
          "base_uri": "https://localhost:8080/"
        },
        "id": "mYA5EOgVeY7Q",
        "outputId": "690b01bd-74ed-4bdf-9966-f6227eaf8ddb"
      },
      "execution_count": null,
      "outputs": [
        {
          "output_type": "stream",
          "name": "stdout",
          "text": [
            "훈련후 입력이 73, 80, 75일 때의 에측값:  tensor([[151.2305]], grad_fn=<AddmmBackward0>)\n"
          ]
        }
      ]
    },
    {
      "cell_type": "code",
      "source": [
        "print(list(model.parameters()))"
      ],
      "metadata": {
        "colab": {
          "base_uri": "https://localhost:8080/"
        },
        "id": "A6aYO-YEgHou",
        "outputId": "303a6ffb-2e21-4fbe-b94f-57408399ed72"
      },
      "execution_count": null,
      "outputs": [
        {
          "output_type": "stream",
          "name": "stdout",
          "text": [
            "[Parameter containing:\n",
            "tensor([[0.9778, 0.4539, 0.5768]], requires_grad=True), Parameter containing:\n",
            "tensor([0.2802], requires_grad=True)]\n"
          ]
        }
      ]
    },
    {
      "cell_type": "markdown",
      "source": [
        "## 3. 모델을 클래스로 구현하기"
      ],
      "metadata": {
        "id": "znX__cbLgOpU"
      }
    },
    {
      "cell_type": "markdown",
      "source": [
        "***단순 선형 회귀***"
      ],
      "metadata": {
        "id": "615fs4CnhxEd"
      }
    },
    {
      "cell_type": "code",
      "source": [
        "# 모델을 선언 및 초기화. 단순 선형 회귀이므로 input_dim=1, output_dim=1\n",
        "# model = nn.Linear(1, 1)\n",
        "\n",
        "class LinearRegressionModel(nn.Module): # torch.nn.Module을 상속받는 파이썬 클래스\n",
        "    def __init__(self):\n",
        "        super().__init__()\n",
        "        self.linear = nn.Linear(1, 1)   # 단순 선형 회귀이므로 input_dim=1, output_dim=1\n",
        "\n",
        "    def forward(self, x):\n",
        "        return self.linear(x)"
      ],
      "metadata": {
        "id": "6FRRVL58gLOK"
      },
      "execution_count": null,
      "outputs": []
    },
    {
      "cell_type": "code",
      "source": [
        "model = LinearRegressionModel()"
      ],
      "metadata": {
        "id": "4CV3ieCJgu_-"
      },
      "execution_count": null,
      "outputs": []
    },
    {
      "cell_type": "markdown",
      "source": [
        "***다중 선형 회귀***"
      ],
      "metadata": {
        "id": "xSvvMitAhyra"
      }
    },
    {
      "cell_type": "code",
      "source": [
        "# 모델을 선언 및 초기화. 다중 선형 회귀이므로 input_dim=3, output_dim=1\n",
        "# model = nn.Linear(3, 1)\n",
        "\n",
        "class MultivariateLinearRegressionModel(nn.Module):\n",
        "    def __init__(self):\n",
        "        super().__init__()\n",
        "        self.linear = nn.Linear(3,1)    # 다중 선형 회귀 이므로 input_dim=3, output_dim=1\n",
        "\n",
        "    def forward(self, x):\n",
        "        return self.linear(x)"
      ],
      "metadata": {
        "id": "mvQdbs6xgw2W"
      },
      "execution_count": null,
      "outputs": []
    },
    {
      "cell_type": "code",
      "source": [
        "model = MultivariateLinearRegressionModel()"
      ],
      "metadata": {
        "id": "WaeabYSWhuTz"
      },
      "execution_count": null,
      "outputs": []
    },
    {
      "cell_type": "markdown",
      "source": [
        "## 4. 단순 선형 회귀 클래스로 구현하기"
      ],
      "metadata": {
        "id": "a50vGqP3h8f_"
      }
    },
    {
      "cell_type": "code",
      "source": [
        "import torch\n",
        "import torch.nn as nn\n",
        "import torch.nn.functional as F"
      ],
      "metadata": {
        "id": "vk-e_Gguh0rR"
      },
      "execution_count": null,
      "outputs": []
    },
    {
      "cell_type": "code",
      "source": [
        "torch.manual_seed(1)"
      ],
      "metadata": {
        "colab": {
          "base_uri": "https://localhost:8080/"
        },
        "id": "hL_oNDOziFVH",
        "outputId": "6e8d5e35-3d22-4c8d-9528-7132f4279aaa"
      },
      "execution_count": null,
      "outputs": [
        {
          "output_type": "execute_result",
          "data": {
            "text/plain": [
              "<torch._C.Generator at 0x7c8a56be9f30>"
            ]
          },
          "metadata": {},
          "execution_count": 32
        }
      ]
    },
    {
      "cell_type": "code",
      "source": [
        "# 데이터\n",
        "x_train = torch.FloatTensor([[1],[2],[3]])\n",
        "y_train = torch.FloatTensor([[2],[4],[6]])"
      ],
      "metadata": {
        "id": "RWvXuVnziGqg"
      },
      "execution_count": null,
      "outputs": []
    },
    {
      "cell_type": "code",
      "source": [
        "class LinearRegressionModel(nn.Module):\n",
        "    def __init__(self):\n",
        "        super().__init__()\n",
        "        self.linear = nn.Linear(1, 1)\n",
        "\n",
        "    def forward(self, x):\n",
        "        return self.linear(x)"
      ],
      "metadata": {
        "id": "ND1pngoqiMH1"
      },
      "execution_count": null,
      "outputs": []
    },
    {
      "cell_type": "code",
      "source": [
        "model = LinearRegressionModel()"
      ],
      "metadata": {
        "id": "xwb6B_3TiW-r"
      },
      "execution_count": null,
      "outputs": []
    },
    {
      "cell_type": "code",
      "source": [
        "# optimizer 설정. 경사하강법 SGD를 사용하고 Learning rate를 의미하는 lr은 0.01\n",
        "optimizer = torch.optim.SGD(model.parameters(), lr=0.01)"
      ],
      "metadata": {
        "id": "_LScOsPPiZEV"
      },
      "execution_count": null,
      "outputs": []
    },
    {
      "cell_type": "code",
      "source": [
        "# 전체 훈련 데이터에 대해 경사 하강법을 2,000회 반복\n",
        "nb_epochs = 2000\n",
        "for epoch in range(nb_epochs+1):\n",
        "\n",
        "    # H(x) 계산\n",
        "    prediction = model(x_train)\n",
        "\n",
        "    # cost 계산\n",
        "    cost = F.mse_loss(prediction, y_train)  # <== 파이토치에서 제공하는 평균 제곱 오차 함수\n",
        "\n",
        "    # cost로 H(x) 개선하는 부분\n",
        "    # gradient를 0으로 초기화\n",
        "    optimizer.zero_grad()\n",
        "    # 비용함수를 미분하여 gradient 계산\n",
        "    cost.backward()\n",
        "    # W와 b를 업데이트\n",
        "    optimizer.step()\n",
        "\n",
        "    if epoch %100 == 0:\n",
        "        # 100번마다 로그 출력\n",
        "        print('Epoch {:4d}/{} Cost: {:.6f}'.format(\n",
        "            epoch, nb_epochs, cost.item()\n",
        "        ))"
      ],
      "metadata": {
        "colab": {
          "base_uri": "https://localhost:8080/"
        },
        "id": "LJxhcPp1ig7R",
        "outputId": "2ea8d227-ca23-4e8f-e26a-bc99c62477af"
      },
      "execution_count": null,
      "outputs": [
        {
          "output_type": "stream",
          "name": "stdout",
          "text": [
            "Epoch    0/2000 Cost: 13.103541\n",
            "Epoch  100/2000 Cost: 0.002791\n",
            "Epoch  200/2000 Cost: 0.001724\n",
            "Epoch  300/2000 Cost: 0.001066\n",
            "Epoch  400/2000 Cost: 0.000658\n",
            "Epoch  500/2000 Cost: 0.000407\n",
            "Epoch  600/2000 Cost: 0.000251\n",
            "Epoch  700/2000 Cost: 0.000155\n",
            "Epoch  800/2000 Cost: 0.000096\n",
            "Epoch  900/2000 Cost: 0.000059\n",
            "Epoch 1000/2000 Cost: 0.000037\n",
            "Epoch 1100/2000 Cost: 0.000023\n",
            "Epoch 1200/2000 Cost: 0.000014\n",
            "Epoch 1300/2000 Cost: 0.000009\n",
            "Epoch 1400/2000 Cost: 0.000005\n",
            "Epoch 1500/2000 Cost: 0.000003\n",
            "Epoch 1600/2000 Cost: 0.000002\n",
            "Epoch 1700/2000 Cost: 0.000001\n",
            "Epoch 1800/2000 Cost: 0.000001\n",
            "Epoch 1900/2000 Cost: 0.000000\n",
            "Epoch 2000/2000 Cost: 0.000000\n"
          ]
        }
      ]
    },
    {
      "cell_type": "markdown",
      "source": [
        "## 5. 다중 선형 회귀 클래스로 구현하기"
      ],
      "metadata": {
        "id": "h2d9XOEcjcfq"
      }
    },
    {
      "cell_type": "code",
      "source": [
        "import torch\n",
        "import torch.nn as nn\n",
        "import torch.nn.functional as F"
      ],
      "metadata": {
        "id": "wIOb5bgcivzJ"
      },
      "execution_count": null,
      "outputs": []
    },
    {
      "cell_type": "code",
      "source": [
        "torch.manual_seed(1)"
      ],
      "metadata": {
        "colab": {
          "base_uri": "https://localhost:8080/"
        },
        "id": "mPPOPyuUjhyC",
        "outputId": "842b6c7c-c9da-40e6-8bf7-093c7742a893"
      },
      "execution_count": null,
      "outputs": [
        {
          "output_type": "execute_result",
          "data": {
            "text/plain": [
              "<torch._C.Generator at 0x7c8a56be9f30>"
            ]
          },
          "metadata": {},
          "execution_count": 49
        }
      ]
    },
    {
      "cell_type": "code",
      "source": [
        "#데이터\n",
        "x_train = torch.FloatTensor([[73, 80, 75],\n",
        "                             [93, 88, 93],\n",
        "                             [89, 91, 90],\n",
        "                             [96 ,98, 100],\n",
        "                             [73, 66, 70]])\n",
        "y_train = torch.FloatTensor([[152], [185], [180],[196],[142]])"
      ],
      "metadata": {
        "id": "UKz077XrjiuG"
      },
      "execution_count": null,
      "outputs": []
    },
    {
      "cell_type": "code",
      "source": [
        "class MultivariateLinearRegressionModel(nn.Module):\n",
        "    def __init__(self):\n",
        "        super().__init__()\n",
        "        self.linear = nn.Linear(3, 1)   # 다중 선형 회귀이므로 input_dim = 3, output_dim=1\n",
        "\n",
        "    def forward(self, x):\n",
        "        return self.linear(x)\n",
        "\n",
        "model = MultivariateLinearRegressionModel()"
      ],
      "metadata": {
        "id": "Gx79SxJmj6NN"
      },
      "execution_count": null,
      "outputs": []
    },
    {
      "cell_type": "code",
      "source": [
        "optimizer = torch.optim.SGD(model.parameters(), lr=1e-5)"
      ],
      "metadata": {
        "id": "FwgT3ahNkMBa"
      },
      "execution_count": null,
      "outputs": []
    },
    {
      "cell_type": "code",
      "source": [
        "nb_epochs = 2000\n",
        "for epoch in range(nb_epochs+1):\n",
        "\n",
        "    # H(x) 계산\n",
        "    prediction = model(x_train)\n",
        "\n",
        "    # cost 계산\n",
        "    cost = F.mse_loss(prediction, y_train)\n",
        "\n",
        "    # cost로 H(x) 개선하는 부분\n",
        "    #gradient를 0으로 초기화\n",
        "    optimizer.zero_grad()\n",
        "    # 비용함수를 미분하여 gradient 계산\n",
        "    cost.backward()\n",
        "    # W와 b를 업데이트\n",
        "    optimizer.step()\n",
        "\n",
        "    if epoch % 100 == 0:\n",
        "        print('Epoch {:4d}/{} Cost:{:.6f}'.format(\n",
        "            epoch, nb_epochs, cost.item()\n",
        "        ))"
      ],
      "metadata": {
        "colab": {
          "base_uri": "https://localhost:8080/"
        },
        "id": "0ckrbRYIkXZE",
        "outputId": "b39504d7-7b75-4221-8d0b-a1d108abe266"
      },
      "execution_count": null,
      "outputs": [
        {
          "output_type": "stream",
          "name": "stdout",
          "text": [
            "Epoch    0/2000 Cost:31667.597656\n",
            "Epoch  100/2000 Cost:0.225993\n",
            "Epoch  200/2000 Cost:0.223911\n",
            "Epoch  300/2000 Cost:0.221941\n",
            "Epoch  400/2000 Cost:0.220059\n",
            "Epoch  500/2000 Cost:0.218271\n",
            "Epoch  600/2000 Cost:0.216575\n",
            "Epoch  700/2000 Cost:0.214950\n",
            "Epoch  800/2000 Cost:0.213413\n",
            "Epoch  900/2000 Cost:0.211952\n",
            "Epoch 1000/2000 Cost:0.210560\n",
            "Epoch 1100/2000 Cost:0.209232\n",
            "Epoch 1200/2000 Cost:0.207967\n",
            "Epoch 1300/2000 Cost:0.206761\n",
            "Epoch 1400/2000 Cost:0.205619\n",
            "Epoch 1500/2000 Cost:0.204522\n",
            "Epoch 1600/2000 Cost:0.203484\n",
            "Epoch 1700/2000 Cost:0.202485\n",
            "Epoch 1800/2000 Cost:0.201542\n",
            "Epoch 1900/2000 Cost:0.200635\n",
            "Epoch 2000/2000 Cost:0.199769\n"
          ]
        }
      ]
    },
    {
      "cell_type": "markdown",
      "source": [
        "# 03-04 미니 배치와 데이터 로더(Mini Batch and DataLoader)"
      ],
      "metadata": {
        "id": "rBgLBvd9lKpf"
      }
    },
    {
      "cell_type": "markdown",
      "source": [
        "## 3. 데이터 로드하기"
      ],
      "metadata": {
        "id": "qSCaKlmYnciJ"
      }
    },
    {
      "cell_type": "code",
      "source": [
        "import torch\n",
        "import torch.nn as nn\n",
        "import torch.nn.functional as F"
      ],
      "metadata": {
        "id": "jzo2qigBk6Uk"
      },
      "execution_count": null,
      "outputs": []
    },
    {
      "cell_type": "code",
      "source": [
        "from torch.utils.data import TensorDataset  # 텐서 데이터셋\n",
        "from torch.utils.data import DataLoader # 데이터 로더"
      ],
      "metadata": {
        "id": "6hepz7aUniLw"
      },
      "execution_count": null,
      "outputs": []
    },
    {
      "cell_type": "code",
      "source": [
        "#데이터\n",
        "x_train = torch.FloatTensor([[73, 80, 75],\n",
        "                             [93, 88, 93],\n",
        "                             [89, 91, 90],\n",
        "                             [96 ,98, 100],\n",
        "                             [73, 66, 70]])\n",
        "y_train = torch.FloatTensor([[152], [185], [180],[196],[142]])"
      ],
      "metadata": {
        "id": "jdzLqnH7nrUK"
      },
      "execution_count": null,
      "outputs": []
    },
    {
      "cell_type": "code",
      "source": [
        "dataset = TensorDataset(x_train, y_train)"
      ],
      "metadata": {
        "id": "N8t1Plmunu8a"
      },
      "execution_count": null,
      "outputs": []
    },
    {
      "cell_type": "code",
      "source": [
        "dataloader = DataLoader(dataset, batch_size=2, shuffle=True)"
      ],
      "metadata": {
        "id": "zDoGS9IMny1_"
      },
      "execution_count": null,
      "outputs": []
    },
    {
      "cell_type": "code",
      "source": [
        "model = nn.Linear(3, 1)\n",
        "optimizer = torch.optim.SGD(model.parameters(), lr=1e-5)"
      ],
      "metadata": {
        "id": "4kO_AeIToKUh"
      },
      "execution_count": null,
      "outputs": []
    },
    {
      "cell_type": "code",
      "source": [
        "nb_epochs = 20\n",
        "for epoch in range(nb_epochs+1):\n",
        "    for batch_idx, samples in enumerate(dataloader):\n",
        "        # print(batch_idx)\n",
        "        # print(samples)\n",
        "        x_train, y_train = samples\n",
        "        #H(x) 계산\n",
        "        prediction = model(x_train)\n",
        "\n",
        "        # cost 계산\n",
        "        cost = F.mse_loss(prediction, y_train)\n",
        "\n",
        "        # cost로 H(x) 계산\n",
        "        optimizer.zero_grad()\n",
        "        cost.backward()\n",
        "        optimizer.step()\n",
        "\n",
        "        print('Epoch: {:4d}/{} Batch {}/{} cost: {:.6f}'.format(\n",
        "            epoch, nb_epochs, batch_idx+1, len(dataloader),\n",
        "            cost.item()\n",
        "        ))"
      ],
      "metadata": {
        "colab": {
          "base_uri": "https://localhost:8080/"
        },
        "id": "jUwNPK-1oQGF",
        "outputId": "8be767ba-89bc-4854-990d-9b25b35a12c6"
      },
      "execution_count": null,
      "outputs": [
        {
          "output_type": "stream",
          "name": "stdout",
          "text": [
            "Epoch:    0/20 Batch 1/3 cost: 2.105971\n",
            "Epoch:    0/20 Batch 2/3 cost: 0.110010\n",
            "Epoch:    0/20 Batch 3/3 cost: 0.249847\n",
            "Epoch:    1/20 Batch 1/3 cost: 1.496397\n",
            "Epoch:    1/20 Batch 2/3 cost: 0.099472\n",
            "Epoch:    1/20 Batch 3/3 cost: 1.706712\n",
            "Epoch:    2/20 Batch 1/3 cost: 0.213913\n",
            "Epoch:    2/20 Batch 2/3 cost: 0.372176\n",
            "Epoch:    2/20 Batch 3/3 cost: 3.877178\n",
            "Epoch:    3/20 Batch 1/3 cost: 1.114850\n",
            "Epoch:    3/20 Batch 2/3 cost: 0.244837\n",
            "Epoch:    3/20 Batch 3/3 cost: 2.249039\n",
            "Epoch:    4/20 Batch 1/3 cost: 0.212871\n",
            "Epoch:    4/20 Batch 2/3 cost: 2.397416\n",
            "Epoch:    4/20 Batch 3/3 cost: 0.154225\n",
            "Epoch:    5/20 Batch 1/3 cost: 1.274019\n",
            "Epoch:    5/20 Batch 2/3 cost: 1.376830\n",
            "Epoch:    5/20 Batch 3/3 cost: 0.271835\n",
            "Epoch:    6/20 Batch 1/3 cost: 0.111913\n",
            "Epoch:    6/20 Batch 2/3 cost: 2.014438\n",
            "Epoch:    6/20 Batch 3/3 cost: 0.045024\n",
            "Epoch:    7/20 Batch 1/3 cost: 0.580636\n",
            "Epoch:    7/20 Batch 2/3 cost: 2.231197\n",
            "Epoch:    7/20 Batch 3/3 cost: 0.096108\n",
            "Epoch:    8/20 Batch 1/3 cost: 1.472891\n",
            "Epoch:    8/20 Batch 2/3 cost: 1.462803\n",
            "Epoch:    8/20 Batch 3/3 cost: 0.000170\n",
            "Epoch:    9/20 Batch 1/3 cost: 1.646641\n",
            "Epoch:    9/20 Batch 2/3 cost: 1.011534\n",
            "Epoch:    9/20 Batch 3/3 cost: 0.339720\n",
            "Epoch:   10/20 Batch 1/3 cost: 0.560483\n",
            "Epoch:   10/20 Batch 2/3 cost: 2.157470\n",
            "Epoch:   10/20 Batch 3/3 cost: 0.214663\n",
            "Epoch:   11/20 Batch 1/3 cost: 0.114409\n",
            "Epoch:   11/20 Batch 2/3 cost: 0.579102\n",
            "Epoch:   11/20 Batch 3/3 cost: 3.868770\n",
            "Epoch:   12/20 Batch 1/3 cost: 1.108647\n",
            "Epoch:   12/20 Batch 2/3 cost: 1.430859\n",
            "Epoch:   12/20 Batch 3/3 cost: 0.059018\n",
            "Epoch:   13/20 Batch 1/3 cost: 0.577217\n",
            "Epoch:   13/20 Batch 2/3 cost: 0.211013\n",
            "Epoch:   13/20 Batch 3/3 cost: 3.421845\n",
            "Epoch:   14/20 Batch 1/3 cost: 1.806746\n",
            "Epoch:   14/20 Batch 2/3 cost: 1.557042\n",
            "Epoch:   14/20 Batch 3/3 cost: 0.036952\n",
            "Epoch:   15/20 Batch 1/3 cost: 1.171713\n",
            "Epoch:   15/20 Batch 2/3 cost: 1.465445\n",
            "Epoch:   15/20 Batch 3/3 cost: 0.221576\n",
            "Epoch:   16/20 Batch 1/3 cost: 1.998119\n",
            "Epoch:   16/20 Batch 2/3 cost: 0.117317\n",
            "Epoch:   16/20 Batch 3/3 cost: 0.044366\n",
            "Epoch:   17/20 Batch 1/3 cost: 0.576531\n",
            "Epoch:   17/20 Batch 2/3 cost: 0.255362\n",
            "Epoch:   17/20 Batch 3/3 cost: 3.397783\n",
            "Epoch:   18/20 Batch 1/3 cost: 0.255251\n",
            "Epoch:   18/20 Batch 2/3 cost: 1.138981\n",
            "Epoch:   18/20 Batch 3/3 cost: 2.670962\n",
            "Epoch:   19/20 Batch 1/3 cost: 0.028939\n",
            "Epoch:   19/20 Batch 2/3 cost: 0.489555\n",
            "Epoch:   19/20 Batch 3/3 cost: 4.001526\n",
            "Epoch:   20/20 Batch 1/3 cost: 2.089583\n",
            "Epoch:   20/20 Batch 2/3 cost: 0.111023\n",
            "Epoch:   20/20 Batch 3/3 cost: 0.240554\n"
          ]
        }
      ]
    },
    {
      "cell_type": "code",
      "source": [
        "# 임의의 입력 [73, 80. 75]를 선언\n",
        "new_var = torch.FloatTensor([[73, 80, 75]])\n",
        "# 입력한 값 [73, 80, 75]에 대해서 예측값 y를 리턴받아서 pred_y에 저장\n",
        "pred_y = model(new_var)\n",
        "print('훈련 후 입력이 73, 80, 75일때의 예측값: ', pred_y)"
      ],
      "metadata": {
        "colab": {
          "base_uri": "https://localhost:8080/"
        },
        "id": "yr-gulyco22B",
        "outputId": "efd2b980-0e37-4cb5-cca1-64cd54e1e9d7"
      },
      "execution_count": null,
      "outputs": [
        {
          "output_type": "stream",
          "name": "stdout",
          "text": [
            "훈련 후 입력이 73, 80, 75일때의 예측값:  tensor([[150.3001]], grad_fn=<AddmmBackward0>)\n"
          ]
        }
      ]
    },
    {
      "cell_type": "markdown",
      "source": [
        "## 5. 커스텀 데이터셋(Custom Dataset)으로 선형회귀 구현하기"
      ],
      "metadata": {
        "id": "DbVOnDvzrhjt"
      }
    },
    {
      "cell_type": "code",
      "source": [
        "import torch\n",
        "import torch.nn.functional as F\n",
        "from torch.utils.data import Dataset\n",
        "from torch.utils.data import DataLoader"
      ],
      "metadata": {
        "id": "sVqUBVR9rI6i"
      },
      "execution_count": null,
      "outputs": []
    },
    {
      "cell_type": "code",
      "source": [
        "# Dataset 상속\n",
        "class CustomDataset(Dataset):\n",
        "    def __init__(self):\n",
        "        self.x_data = [[73, 80, 75],\n",
        "                       [93, 88, 93],\n",
        "                       [89, 91, 90],\n",
        "                       [96 ,98, 100],\n",
        "                       [73, 66, 70]]\n",
        "        self.y_data = [[152],[185],[180],[196],[142]]\n",
        "\n",
        "    # 총 데이터의 개수를 리턴\n",
        "    def __len__(self):\n",
        "        return len(self.x_data)\n",
        "\n",
        "    # 인덱스를 입력받아 그에 맵핑되는 입출력 데이터를 파이토치의 Tensor 형태로 리턴\n",
        "    def __getitem__(self, idx):\n",
        "        x = torch.FloatTensor(self.x_data[idx])\n",
        "        y = torch.FloatTensor(self.y_data[idx])\n",
        "        return x, y"
      ],
      "metadata": {
        "id": "MEjpT5Hcrrmw"
      },
      "execution_count": null,
      "outputs": []
    },
    {
      "cell_type": "code",
      "source": [
        "dataset = CustomDataset()\n",
        "dataloader = DataLoader(dataset, batch_size=2, shuffle=True)"
      ],
      "metadata": {
        "id": "_OcNfVO4sS0P"
      },
      "execution_count": null,
      "outputs": []
    },
    {
      "cell_type": "code",
      "source": [
        "model = torch.nn.Linear(3, 1)\n",
        "optimizer = torch.optim.SGD(model.parameters(), lr=1e-5)"
      ],
      "metadata": {
        "id": "Gs4UP_sjsfR6"
      },
      "execution_count": null,
      "outputs": []
    },
    {
      "cell_type": "code",
      "source": [
        "nb_epochs = 20\n",
        "for epoch in range(nb_epochs+1):\n",
        "    for batch_idx, samples in enumerate(dataloader):\n",
        "        x_train, y_train = samples\n",
        "        #H(x) 계산\n",
        "        prediction = model(x_train)\n",
        "        #cost 계산\n",
        "        cost = F.mse_loss(prediction, y_train)\n",
        "\n",
        "        # cost로 H(x) 계산\n",
        "        optimizer.zero_grad()\n",
        "        cost.backward()\n",
        "        optimizer.step()\n",
        "\n",
        "        print('Epoch {:4d}/{} Batch {}/{} Cost: {:.6f}'.format(\n",
        "            epoch, nb_epochs, batch_idx+1, len(dataloader),\n",
        "            cost.item()\n",
        "        ))"
      ],
      "metadata": {
        "colab": {
          "base_uri": "https://localhost:8080/"
        },
        "id": "d-SHjck4sk2H",
        "outputId": "7fd973fe-543b-443d-feea-bd2ec0a8d4e9"
      },
      "execution_count": null,
      "outputs": [
        {
          "output_type": "stream",
          "name": "stdout",
          "text": [
            "Epoch    0/20 Batch 1/3 Cost: 28286.632812\n",
            "Epoch    0/20 Batch 2/3 Cost: 12009.502930\n",
            "Epoch    0/20 Batch 3/3 Cost: 3635.381836\n",
            "Epoch    1/20 Batch 1/3 Cost: 800.603088\n",
            "Epoch    1/20 Batch 2/3 Cost: 323.736725\n",
            "Epoch    1/20 Batch 3/3 Cost: 111.539330\n",
            "Epoch    2/20 Batch 1/3 Cost: 29.674530\n",
            "Epoch    2/20 Batch 2/3 Cost: 6.392916\n",
            "Epoch    2/20 Batch 3/3 Cost: 0.403974\n",
            "Epoch    3/20 Batch 1/3 Cost: 1.649625\n",
            "Epoch    3/20 Batch 2/3 Cost: 0.212619\n",
            "Epoch    3/20 Batch 3/3 Cost: 4.296056\n",
            "Epoch    4/20 Batch 1/3 Cost: 0.147060\n",
            "Epoch    4/20 Batch 2/3 Cost: 0.861325\n",
            "Epoch    4/20 Batch 3/3 Cost: 2.984918\n",
            "Epoch    5/20 Batch 1/3 Cost: 1.486548\n",
            "Epoch    5/20 Batch 2/3 Cost: 1.312422\n",
            "Epoch    5/20 Batch 3/3 Cost: 0.131674\n",
            "Epoch    6/20 Batch 1/3 Cost: 0.156190\n",
            "Epoch    6/20 Batch 2/3 Cost: 1.062103\n",
            "Epoch    6/20 Batch 3/3 Cost: 2.878484\n",
            "Epoch    7/20 Batch 1/3 Cost: 0.818869\n",
            "Epoch    7/20 Batch 2/3 Cost: 0.290195\n",
            "Epoch    7/20 Batch 3/3 Cost: 2.282895\n",
            "Epoch    8/20 Batch 1/3 Cost: 0.226800\n",
            "Epoch    8/20 Batch 2/3 Cost: 2.364472\n",
            "Epoch    8/20 Batch 3/3 Cost: 0.039064\n",
            "Epoch    9/20 Batch 1/3 Cost: 1.218311\n",
            "Epoch    9/20 Batch 2/3 Cost: 1.020735\n",
            "Epoch    9/20 Batch 3/3 Cost: 0.482314\n",
            "Epoch   10/20 Batch 1/3 Cost: 0.657738\n",
            "Epoch   10/20 Batch 2/3 Cost: 1.580837\n",
            "Epoch   10/20 Batch 3/3 Cost: 0.210191\n",
            "Epoch   11/20 Batch 1/3 Cost: 0.157578\n",
            "Epoch   11/20 Batch 2/3 Cost: 0.965087\n",
            "Epoch   11/20 Batch 3/3 Cost: 2.298923\n",
            "Epoch   12/20 Batch 1/3 Cost: 0.227691\n",
            "Epoch   12/20 Batch 2/3 Cost: 2.360537\n",
            "Epoch   12/20 Batch 3/3 Cost: 0.039058\n",
            "Epoch   13/20 Batch 1/3 Cost: 0.693053\n",
            "Epoch   13/20 Batch 2/3 Cost: 1.445711\n",
            "Epoch   13/20 Batch 3/3 Cost: 0.123886\n",
            "Epoch   14/20 Batch 1/3 Cost: 1.321609\n",
            "Epoch   14/20 Batch 2/3 Cost: 0.328444\n",
            "Epoch   14/20 Batch 3/3 Cost: 1.470474\n",
            "Epoch   15/20 Batch 1/3 Cost: 1.996720\n",
            "Epoch   15/20 Batch 2/3 Cost: 0.706799\n",
            "Epoch   15/20 Batch 3/3 Cost: 0.000012\n",
            "Epoch   16/20 Batch 1/3 Cost: 0.376208\n",
            "Epoch   16/20 Batch 2/3 Cost: 1.768442\n",
            "Epoch   16/20 Batch 3/3 Cost: 0.260608\n",
            "Epoch   17/20 Batch 1/3 Cost: 0.959381\n",
            "Epoch   17/20 Batch 2/3 Cost: 0.202610\n",
            "Epoch   17/20 Batch 3/3 Cost: 1.973121\n",
            "Epoch   18/20 Batch 1/3 Cost: 0.079970\n",
            "Epoch   18/20 Batch 2/3 Cost: 1.878878\n",
            "Epoch   18/20 Batch 3/3 Cost: 1.689849\n",
            "Epoch   19/20 Batch 1/3 Cost: 2.273493\n",
            "Epoch   19/20 Batch 2/3 Cost: 0.719683\n",
            "Epoch   19/20 Batch 3/3 Cost: 0.025826\n",
            "Epoch   20/20 Batch 1/3 Cost: 0.243004\n",
            "Epoch   20/20 Batch 2/3 Cost: 1.753107\n",
            "Epoch   20/20 Batch 3/3 Cost: 0.014868\n"
          ]
        }
      ]
    },
    {
      "cell_type": "code",
      "source": [
        "# 임의의 입력 [73, 80, 75]를 선언\n",
        "new_var = torch.FloatTensor([[73, 80, 75]])\n",
        "# 입력한 값 [73, 80, 75]에 대해서 예측값 y를 리턴받아서 pred_y에 저장\n",
        "pred_y = model(new_var)\n",
        "print('훈련 후 입력이 73, 80, 75일때의 예측값: ',pred_y)"
      ],
      "metadata": {
        "colab": {
          "base_uri": "https://localhost:8080/"
        },
        "id": "zDcxm33ItVRo",
        "outputId": "81cec1e0-0434-401a-a358-2e95edad9183"
      },
      "execution_count": null,
      "outputs": [
        {
          "output_type": "stream",
          "name": "stdout",
          "text": [
            "훈련 후 입력이 73, 80, 75일때의 예측값:  tensor([[150.4151]], grad_fn=<AddmmBackward0>)\n"
          ]
        }
      ]
    },
    {
      "cell_type": "markdown",
      "source": [
        "# 03-05 벡터와 행렬연산 복습하기"
      ],
      "metadata": {
        "id": "Ea-ro5Hg4JIv"
      }
    },
    {
      "cell_type": "markdown",
      "source": [
        "## 2. 텐서(Tensor)"
      ],
      "metadata": {
        "id": "TIYIPwJW4v83"
      }
    },
    {
      "cell_type": "code",
      "source": [
        "import numpy as np"
      ],
      "metadata": {
        "id": "L-bOYOvxtvAO"
      },
      "execution_count": null,
      "outputs": []
    },
    {
      "cell_type": "markdown",
      "source": [
        "### 1) 0차원 텐서(스칼라)"
      ],
      "metadata": {
        "id": "5S5scl5r4znV"
      }
    },
    {
      "cell_type": "code",
      "source": [
        "d = np.array(5)\n",
        "print('텐서의 차원',d.ndim)\n",
        "print('텐서의 크기(shape)',d.shape)"
      ],
      "metadata": {
        "colab": {
          "base_uri": "https://localhost:8080/"
        },
        "id": "aX-Rzl3u4y0j",
        "outputId": "cb71d192-7d88-42e4-d585-3a67ae4a7eba"
      },
      "execution_count": null,
      "outputs": [
        {
          "output_type": "stream",
          "name": "stdout",
          "text": [
            "텐서의 차원 0\n",
            "텐서의 크기(shape) ()\n"
          ]
        }
      ]
    },
    {
      "cell_type": "markdown",
      "source": [
        "### 2) 1차원 텐서(벡터)"
      ],
      "metadata": {
        "id": "39GPLqJN5Nc6"
      }
    },
    {
      "cell_type": "code",
      "source": [
        "d = np.array([1, 2, 3, 4])\n",
        "print('텐서의 차원 : ', d.ndim)\n",
        "print('텐서의 크기(shape) : ', d.shape) # 벡터의 차원 = 4"
      ],
      "metadata": {
        "colab": {
          "base_uri": "https://localhost:8080/"
        },
        "id": "_CtavL8J4-C1",
        "outputId": "97e6c2e5-e0bb-4f88-ee00-eb03ac771936"
      },
      "execution_count": null,
      "outputs": [
        {
          "output_type": "stream",
          "name": "stdout",
          "text": [
            "텐서의 차원 :  1\n",
            "텐서의 크기(shape) :  (4,)\n"
          ]
        }
      ]
    },
    {
      "cell_type": "markdown",
      "source": [
        "###3) 2차원 텐서 (행렬)"
      ],
      "metadata": {
        "id": "bKQNxk_J5m84"
      }
    },
    {
      "cell_type": "code",
      "source": [
        "# 3행 4열의 행렬\n",
        "d = np.array([[1, 2, 3, 4],[5, 6, 7, 8],[9, 10, 11, 12]])\n",
        "print('텐서의 차원 : ',d.ndim)\n",
        "print('텐서의 크기(shape) :', d.shape)"
      ],
      "metadata": {
        "colab": {
          "base_uri": "https://localhost:8080/"
        },
        "id": "r8cwPeTM5W0Y",
        "outputId": "ebd3b245-3a91-4e6c-97e9-db0b25ca7013"
      },
      "execution_count": null,
      "outputs": [
        {
          "output_type": "stream",
          "name": "stdout",
          "text": [
            "텐서의 차원 :  2\n",
            "텐서의 크기(shape) : (3, 4)\n"
          ]
        }
      ]
    },
    {
      "cell_type": "code",
      "source": [
        "d = np.array([\n",
        "    [[1,2,3,4,5], [6,7,8,9,10],[10, 11,12,13,14]],\n",
        "    [[15,16,17,18,19],[19,20,21,22,23],[23,24,25,26,27]]\n",
        "])\n",
        "print('텐서의 차원 :',d.ndim)\n",
        "print('텐서의 크기(shape): ', d.shape)"
      ],
      "metadata": {
        "colab": {
          "base_uri": "https://localhost:8080/"
        },
        "id": "oZo7Hmtn5485",
        "outputId": "c4a6dfff-a117-48c1-bc7d-8475b22bc1e9"
      },
      "execution_count": null,
      "outputs": [
        {
          "output_type": "stream",
          "name": "stdout",
          "text": [
            "텐서의 차원 : 3\n",
            "텐서의 크기(shape):  (2, 3, 5)\n"
          ]
        }
      ]
    },
    {
      "cell_type": "markdown",
      "source": [
        "## 3. 벡터와 행렬의 연산"
      ],
      "metadata": {
        "id": "ayCFugez7-Vw"
      }
    },
    {
      "cell_type": "code",
      "source": [
        "import numpy as np"
      ],
      "metadata": {
        "id": "atUU1CR16zII"
      },
      "execution_count": null,
      "outputs": []
    },
    {
      "cell_type": "markdown",
      "source": [
        "### 1) 벡터와 행렬의 덧셈과 뺄셈"
      ],
      "metadata": {
        "id": "TKdovSHP8LC_"
      }
    },
    {
      "cell_type": "code",
      "source": [
        "A = np.array([8, 4, 5])\n",
        "B = np.array([1, 2, 3])\n",
        "print('두 벡터의 합:',A+B)\n",
        "print('두 벡터의 차:',A-B)"
      ],
      "metadata": {
        "colab": {
          "base_uri": "https://localhost:8080/"
        },
        "id": "02R-fPTA8EAQ",
        "outputId": "17d2bf33-e4f2-405d-a946-d529af9b92c3"
      },
      "execution_count": null,
      "outputs": [
        {
          "output_type": "stream",
          "name": "stdout",
          "text": [
            "두 벡터의 합: [9 6 8]\n",
            "두 벡터의 차: [7 2 2]\n"
          ]
        }
      ]
    },
    {
      "cell_type": "code",
      "source": [
        "A = np.array([[10, 20, 30, 40],[50, 60, 70, 80]])\n",
        "B = np.array([[5, 6, 7, 8],[1, 2, 3, 4]])\n",
        "print('두 행렬의 합 :')\n",
        "print(A+B)\n",
        "print('두 행렬의 차 :')\n",
        "print(A-B)"
      ],
      "metadata": {
        "colab": {
          "base_uri": "https://localhost:8080/"
        },
        "id": "8OlqVl0o8W7-",
        "outputId": "76423a74-c182-47b6-9694-de069fa2758a"
      },
      "execution_count": null,
      "outputs": [
        {
          "output_type": "stream",
          "name": "stdout",
          "text": [
            "두 행렬의 합 :\n",
            "[[15 26 37 48]\n",
            " [51 62 73 84]]\n",
            "두 행렬의 차 :\n",
            "[[ 5 14 23 32]\n",
            " [49 58 67 76]]\n"
          ]
        }
      ]
    },
    {
      "cell_type": "markdown",
      "source": [
        "### 2) 벡터의 내적과 행렬의 곱셈"
      ],
      "metadata": {
        "id": "pSJvYvsg9Po6"
      }
    },
    {
      "cell_type": "code",
      "source": [
        "A = np.array([1,2,3])\n",
        "B = np.array([4, 5, 6])\n",
        "print('두 벡터의 내적 : ', np.dot(A,B))"
      ],
      "metadata": {
        "colab": {
          "base_uri": "https://localhost:8080/"
        },
        "id": "LqrAsOol8xnV",
        "outputId": "03013d45-6fdd-42b4-a51b-ab78a3cda015"
      },
      "execution_count": null,
      "outputs": [
        {
          "output_type": "stream",
          "name": "stdout",
          "text": [
            "두 벡터의 내적 :  32\n"
          ]
        }
      ]
    },
    {
      "cell_type": "code",
      "source": [
        "A = np.array([[1, 3], [2, 4]])\n",
        "B = np.array([[5, 7], [6, 8]])\n",
        "print('두 행렬의 행렬곱 :')\n",
        "print(np.matmul(A,B))"
      ],
      "metadata": {
        "colab": {
          "base_uri": "https://localhost:8080/"
        },
        "id": "w_mBJQzh9Vsw",
        "outputId": "063e6f50-a1d7-4c8a-fc9e-3187fdd8841e"
      },
      "execution_count": null,
      "outputs": [
        {
          "output_type": "stream",
          "name": "stdout",
          "text": [
            "두 행렬의 행렬곱 :\n",
            "[[23 31]\n",
            " [34 46]]\n"
          ]
        }
      ]
    }
  ]
}